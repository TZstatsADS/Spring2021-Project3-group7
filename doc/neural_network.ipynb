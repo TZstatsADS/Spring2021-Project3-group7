{
  "nbformat": 4,
  "nbformat_minor": 0,
  "metadata": {
    "colab": {
      "name": "stat_proj.ipynb",
      "provenance": []
    },
    "kernelspec": {
      "name": "python3",
      "display_name": "Python 3"
    }
  },
  "cells": [
    {
      "cell_type": "code",
      "metadata": {
        "id": "6lzzuZ-Sbc8b"
      },
      "source": [
        "import numpy as np\n",
        "import pandas as pd\n",
        "import os\n",
        "import scipy.io\n",
        "import tensorflow as tf\n",
        "import matplotlib.pyplot as plt\n",
        "from tensorflow import keras\n",
        "from tensorflow.keras.models import Sequential\n",
        "from tensorflow.keras.wrappers.scikit_learn import KerasClassifier\n",
        "from tensorflow.keras.layers import Dense\n",
        "from tensorflow.keras.layers import BatchNormalization\n",
        "from tensorflow.keras.layers import Dropout\n",
        "from sklearn.model_selection import GridSearchCV\n",
        "import scipy.io\n",
        "import time"
      ],
      "execution_count": null,
      "outputs": []
    },
    {
      "cell_type": "code",
      "metadata": {
        "colab": {
          "base_uri": "https://localhost:8080/"
        },
        "id": "5tUyjsVtvr4x",
        "outputId": "5bdef012-ba53-43c1-dea8-a83a84df814f"
      },
      "source": [
        "from google.colab import drive\n",
        "drive.mount('/gdrive')"
      ],
      "execution_count": null,
      "outputs": [
        {
          "output_type": "stream",
          "text": [
            "Mounted at /gdrive\n"
          ],
          "name": "stdout"
        }
      ]
    },
    {
      "cell_type": "code",
      "metadata": {
        "colab": {
          "base_uri": "https://localhost:8080/"
        },
        "id": "qLqE6kq0Hfko",
        "outputId": "c440cfc3-39ac-4b4c-9de5-748e104bca3b"
      },
      "source": [
        "!pip install pyreadr\n",
        "import pyreadr"
      ],
      "execution_count": null,
      "outputs": [
        {
          "output_type": "stream",
          "text": [
            "Collecting pyreadr\n",
            "\u001b[?25l  Downloading https://files.pythonhosted.org/packages/11/ae/74e99f7fe3652f5976acc35543fdf17abe9b887478218c9e277b509c0a45/pyreadr-0.4.0-cp37-cp37m-manylinux2014_x86_64.whl (410kB)\n",
            "\r\u001b[K     |▉                               | 10kB 16.3MB/s eta 0:00:01\r\u001b[K     |█▋                              | 20kB 12.5MB/s eta 0:00:01\r\u001b[K     |██▍                             | 30kB 8.4MB/s eta 0:00:01\r\u001b[K     |███▏                            | 40kB 7.2MB/s eta 0:00:01\r\u001b[K     |████                            | 51kB 4.3MB/s eta 0:00:01\r\u001b[K     |████▉                           | 61kB 4.9MB/s eta 0:00:01\r\u001b[K     |█████▋                          | 71kB 5.0MB/s eta 0:00:01\r\u001b[K     |██████▍                         | 81kB 5.2MB/s eta 0:00:01\r\u001b[K     |███████▏                        | 92kB 5.1MB/s eta 0:00:01\r\u001b[K     |████████                        | 102kB 5.2MB/s eta 0:00:01\r\u001b[K     |████████▉                       | 112kB 5.2MB/s eta 0:00:01\r\u001b[K     |█████████▋                      | 122kB 5.2MB/s eta 0:00:01\r\u001b[K     |██████████▍                     | 133kB 5.2MB/s eta 0:00:01\r\u001b[K     |███████████▏                    | 143kB 5.2MB/s eta 0:00:01\r\u001b[K     |████████████                    | 153kB 5.2MB/s eta 0:00:01\r\u001b[K     |████████████▊                   | 163kB 5.2MB/s eta 0:00:01\r\u001b[K     |█████████████▋                  | 174kB 5.2MB/s eta 0:00:01\r\u001b[K     |██████████████▍                 | 184kB 5.2MB/s eta 0:00:01\r\u001b[K     |███████████████▏                | 194kB 5.2MB/s eta 0:00:01\r\u001b[K     |████████████████                | 204kB 5.2MB/s eta 0:00:01\r\u001b[K     |████████████████▊               | 215kB 5.2MB/s eta 0:00:01\r\u001b[K     |█████████████████▋              | 225kB 5.2MB/s eta 0:00:01\r\u001b[K     |██████████████████▍             | 235kB 5.2MB/s eta 0:00:01\r\u001b[K     |███████████████████▏            | 245kB 5.2MB/s eta 0:00:01\r\u001b[K     |████████████████████            | 256kB 5.2MB/s eta 0:00:01\r\u001b[K     |████████████████████▊           | 266kB 5.2MB/s eta 0:00:01\r\u001b[K     |█████████████████████▌          | 276kB 5.2MB/s eta 0:00:01\r\u001b[K     |██████████████████████▍         | 286kB 5.2MB/s eta 0:00:01\r\u001b[K     |███████████████████████▏        | 296kB 5.2MB/s eta 0:00:01\r\u001b[K     |████████████████████████        | 307kB 5.2MB/s eta 0:00:01\r\u001b[K     |████████████████████████▊       | 317kB 5.2MB/s eta 0:00:01\r\u001b[K     |█████████████████████████▌      | 327kB 5.2MB/s eta 0:00:01\r\u001b[K     |██████████████████████████▍     | 337kB 5.2MB/s eta 0:00:01\r\u001b[K     |███████████████████████████▏    | 348kB 5.2MB/s eta 0:00:01\r\u001b[K     |████████████████████████████    | 358kB 5.2MB/s eta 0:00:01\r\u001b[K     |████████████████████████████▊   | 368kB 5.2MB/s eta 0:00:01\r\u001b[K     |█████████████████████████████▌  | 378kB 5.2MB/s eta 0:00:01\r\u001b[K     |██████████████████████████████▍ | 389kB 5.2MB/s eta 0:00:01\r\u001b[K     |███████████████████████████████▏| 399kB 5.2MB/s eta 0:00:01\r\u001b[K     |████████████████████████████████| 409kB 5.2MB/s eta 0:00:01\r\u001b[K     |████████████████████████████████| 419kB 5.2MB/s \n",
            "\u001b[?25hRequirement already satisfied: pandas>0.24.0 in /usr/local/lib/python3.7/dist-packages (from pyreadr) (1.1.5)\n",
            "Requirement already satisfied: python-dateutil>=2.7.3 in /usr/local/lib/python3.7/dist-packages (from pandas>0.24.0->pyreadr) (2.8.1)\n",
            "Requirement already satisfied: numpy>=1.15.4 in /usr/local/lib/python3.7/dist-packages (from pandas>0.24.0->pyreadr) (1.19.5)\n",
            "Requirement already satisfied: pytz>=2017.2 in /usr/local/lib/python3.7/dist-packages (from pandas>0.24.0->pyreadr) (2018.9)\n",
            "Requirement already satisfied: six>=1.5 in /usr/local/lib/python3.7/dist-packages (from python-dateutil>=2.7.3->pandas>0.24.0->pyreadr) (1.15.0)\n",
            "Installing collected packages: pyreadr\n",
            "Successfully installed pyreadr-0.4.0\n"
          ],
          "name": "stdout"
        }
      ]
    },
    {
      "cell_type": "code",
      "metadata": {
        "id": "cdO-SEaqHf_h"
      },
      "source": [
        "train_dat = pyreadr.read_r('/gdrive/MyDrive/STAT5243/data/feature_train.RData')\n",
        "test_dat = pyreadr.read_r('/gdrive/MyDrive/STAT5243/data/feature_test.RData')\n",
        "\n",
        "train_dat = list(train_dat.items())[0][1]\n",
        "test_dat = list(test_dat.items())[0][1]"
      ],
      "execution_count": null,
      "outputs": []
    },
    {
      "cell_type": "code",
      "metadata": {
        "id": "owOg8VjaJArZ"
      },
      "source": [
        "x_train = train_dat.iloc[:,:-1]\n",
        "y_train = train_dat.iloc[:,-1]\n",
        "x_test = test_dat.iloc[:,:-1]\n",
        "y_test = test_dat.iloc[:,-1]"
      ],
      "execution_count": null,
      "outputs": []
    },
    {
      "cell_type": "code",
      "metadata": {
        "id": "-_Axaya0K8Lr"
      },
      "source": [
        "def create_nn(n1, n2, n3, optimizer='adam'):\n",
        "  # Initialize the constructor\n",
        "  model = Sequential()\n",
        "  # Add input and hidden layers\n",
        "  model.add(Dense(n1, activation='relu', input_shape=[6006]))\n",
        "  model.add(Dense(n2, activation='relu'))\n",
        "  if n3 != None:\n",
        "    model.add(Dense(n3, activation='relu'))\n",
        "  model.add(Dense(1, activation='sigmoid'))\n",
        "  #compile model\n",
        "  model.compile(loss='binary_crossentropy', \n",
        "                optimizer=optimizer, \n",
        "                metrics=['accuracy', 'AUC'])\n",
        "  return model"
      ],
      "execution_count": null,
      "outputs": []
    },
    {
      "cell_type": "code",
      "metadata": {
        "id": "gvvKdfwaE9xu"
      },
      "source": [
        "nn = KerasClassifier(build_fn=create_nn, verbose=1)\n",
        "n1 = [9, 7]\n",
        "n2 = [7, 5, 3]\n",
        "n3 = [None, 3]"
      ],
      "execution_count": null,
      "outputs": []
    },
    {
      "cell_type": "code",
      "metadata": {
        "id": "CNGnOMHuHYNc"
      },
      "source": [
        "param_grid = dict(n1=n1, n2=n2, n3=n3)\n",
        "grid = GridSearchCV(estimator=nn, param_grid=param_grid, n_jobs=-1, cv=5)"
      ],
      "execution_count": null,
      "outputs": []
    },
    {
      "cell_type": "code",
      "metadata": {
        "colab": {
          "base_uri": "https://localhost:8080/"
        },
        "id": "ArTzqUXpIgKF",
        "outputId": "04c0402a-ec12-41ea-ac2e-7327bc09408a"
      },
      "source": [
        "grid_result = grid.fit(x_train, y_train)"
      ],
      "execution_count": null,
      "outputs": [
        {
          "output_type": "stream",
          "text": [
            "/usr/local/lib/python3.7/dist-packages/joblib/externals/loky/process_executor.py:691: UserWarning: A worker stopped while some jobs were given to the executor. This can be caused by a too short worker timeout or by a memory leak.\n",
            "  \"timeout or by a memory leak.\", UserWarning\n"
          ],
          "name": "stderr"
        },
        {
          "output_type": "stream",
          "text": [
            "75/75 [==============================] - 1s 4ms/step - loss: 3.1647 - accuracy: 0.7065 - auc: 0.5231\n"
          ],
          "name": "stdout"
        }
      ]
    },
    {
      "cell_type": "code",
      "metadata": {
        "colab": {
          "base_uri": "https://localhost:8080/"
        },
        "id": "XGL-gxAOJYGZ",
        "outputId": "29791a37-acd2-4fff-bdc5-a0da1a650289"
      },
      "source": [
        "print(\"Best: %f using %s\" % (grid_result.best_score_, grid_result.best_params_))\n",
        "means = grid_result.cv_results_['mean_test_score']\n",
        "stds = grid_result.cv_results_['std_test_score']\n",
        "params = grid_result.cv_results_['params']\n",
        "for mean, sd, param in zip(means, stds, params):\n",
        "  print(\"%f (%f) with: %r\" % (mean, sd, param))"
      ],
      "execution_count": null,
      "outputs": [
        {
          "output_type": "stream",
          "text": [
            "Best: 0.805833 using {'n1': 9, 'n2': 7, 'n3': 3}\n",
            "0.678333 (0.248651) with: {'n1': 9, 'n2': 7, 'n3': None}\n",
            "0.805833 (0.009807) with: {'n1': 9, 'n2': 7, 'n3': 3}\n",
            "0.689167 (0.240512) with: {'n1': 9, 'n2': 5, 'n3': None}\n",
            "0.805833 (0.009807) with: {'n1': 9, 'n2': 5, 'n3': 3}\n",
            "0.805833 (0.009807) with: {'n1': 9, 'n2': 3, 'n3': None}\n",
            "0.805833 (0.009807) with: {'n1': 9, 'n2': 3, 'n3': 3}\n",
            "0.805833 (0.009807) with: {'n1': 7, 'n2': 7, 'n3': None}\n",
            "0.682500 (0.245609) with: {'n1': 7, 'n2': 7, 'n3': 3}\n",
            "0.805833 (0.009807) with: {'n1': 7, 'n2': 5, 'n3': None}\n",
            "0.805833 (0.009807) with: {'n1': 7, 'n2': 5, 'n3': 3}\n",
            "0.682500 (0.245609) with: {'n1': 7, 'n2': 3, 'n3': None}\n",
            "0.805833 (0.009807) with: {'n1': 7, 'n2': 3, 'n3': 3}\n"
          ],
          "name": "stdout"
        }
      ]
    },
    {
      "cell_type": "code",
      "metadata": {
        "id": "Rr28hQffPc0L"
      },
      "source": [
        "n1, n2, n3 = grid_result.best_params_.values()"
      ],
      "execution_count": null,
      "outputs": []
    },
    {
      "cell_type": "code",
      "metadata": {
        "id": "5k5wnwUDPS7h"
      },
      "source": [
        "def create_nn(n1=n1, n2=n2, n3=n3, optimizer='adam'):\n",
        "  # Initialize the constructor\n",
        "  model = Sequential()\n",
        "  # Add input and hidden layers\n",
        "  model.add(Dense(n1, activation='relu', input_shape=[6006]))\n",
        "  model.add(Dense(n2, activation='relu'))\n",
        "  if n3 != None:\n",
        "    model.add(Dense(n3, activation='relu'))\n",
        "  model.add(Dense(1, activation='sigmoid'))\n",
        "  #compile model\n",
        "  model.compile(loss='binary_crossentropy', \n",
        "                optimizer=optimizer, \n",
        "                metrics=['accuracy', 'AUC'])\n",
        "  return model"
      ],
      "execution_count": null,
      "outputs": []
    },
    {
      "cell_type": "code",
      "metadata": {
        "id": "pBQ4Hsgd2WL-"
      },
      "source": [
        "def create_nn(n1=n1, n2=n2, n3=n3, optimizer='adam'):\n",
        "  # Initialize the constructor\n",
        "  model = Sequential()\n",
        "  # Add input and hidden layers\n",
        "  model.add(Dense(n1, activation='relu', input_shape=[6006]))\n",
        "  model.add(Dense(n2, activation='relu'))\n",
        "  if n3 != None:\n",
        "    model.add(Dense(n3, activation='relu'))\n",
        "  model.add(Dense(1, activation='sigmoid'))\n",
        "  #compile model\n",
        "  model.compile(loss='binary_crossentropy', \n",
        "                optimizer=optimizer, \n",
        "                metrics=['accuracy', 'AUC'])\n",
        "  return model"
      ],
      "execution_count": null,
      "outputs": []
    },
    {
      "cell_type": "code",
      "metadata": {
        "id": "oRPeUXxRPqi8"
      },
      "source": [
        "nn = KerasClassifier(build_fn=create_nn, verbose=1)\n",
        "batch_size = [16, 32, 64, 128]\n",
        "epochs = [10, 25, 50, 100]"
      ],
      "execution_count": null,
      "outputs": []
    },
    {
      "cell_type": "code",
      "metadata": {
        "id": "xfEirye4Q23c"
      },
      "source": [
        "param_grid = dict(batch_size=batch_size, epochs=epochs)\n",
        "grid = GridSearchCV(estimator=nn, param_grid=param_grid, n_jobs=-1, cv=5)"
      ],
      "execution_count": null,
      "outputs": []
    },
    {
      "cell_type": "code",
      "metadata": {
        "colab": {
          "base_uri": "https://localhost:8080/"
        },
        "id": "GONcbprySD03",
        "outputId": "fb20ed2b-c8d0-4cbd-d264-c1a5783054e0"
      },
      "source": [
        "grid_result = grid.fit(x_train, y_train)"
      ],
      "execution_count": null,
      "outputs": [
        {
          "output_type": "stream",
          "text": [
            "/usr/local/lib/python3.7/dist-packages/joblib/externals/loky/process_executor.py:691: UserWarning: A worker stopped while some jobs were given to the executor. This can be caused by a too short worker timeout or by a memory leak.\n",
            "  \"timeout or by a memory leak.\", UserWarning\n"
          ],
          "name": "stderr"
        },
        {
          "output_type": "stream",
          "text": [
            "Epoch 1/50\n",
            "75/75 [==============================] - 1s 4ms/step - loss: 6.5433 - accuracy: 0.6958 - auc: 0.4847\n",
            "Epoch 2/50\n",
            "75/75 [==============================] - 0s 4ms/step - loss: 0.6693 - accuracy: 0.8094 - auc: 0.5085\n",
            "Epoch 3/50\n",
            "75/75 [==============================] - 0s 4ms/step - loss: 0.6501 - accuracy: 0.8061 - auc: 0.5151\n",
            "Epoch 4/50\n",
            "75/75 [==============================] - 0s 4ms/step - loss: 0.6331 - accuracy: 0.8028 - auc: 0.4948\n",
            "Epoch 5/50\n",
            "75/75 [==============================] - 0s 4ms/step - loss: 0.6165 - accuracy: 0.8058 - auc: 0.5053\n",
            "Epoch 6/50\n",
            "75/75 [==============================] - 0s 3ms/step - loss: 0.6013 - accuracy: 0.8085 - auc: 0.5003\n",
            "Epoch 7/50\n",
            "75/75 [==============================] - 0s 4ms/step - loss: 0.5869 - accuracy: 0.8119 - auc: 0.4968\n",
            "Epoch 8/50\n",
            "75/75 [==============================] - 0s 3ms/step - loss: 0.5746 - accuracy: 0.8129 - auc: 0.5031\n",
            "Epoch 9/50\n",
            "75/75 [==============================] - 0s 4ms/step - loss: 0.5648 - accuracy: 0.8110 - auc: 0.4941\n",
            "Epoch 10/50\n",
            "75/75 [==============================] - 0s 3ms/step - loss: 0.5501 - accuracy: 0.8202 - auc: 0.4784\n",
            "Epoch 11/50\n",
            "75/75 [==============================] - 0s 4ms/step - loss: 0.5569 - accuracy: 0.7945 - auc: 0.5001\n",
            "Epoch 12/50\n",
            "75/75 [==============================] - 0s 4ms/step - loss: 0.5425 - accuracy: 0.8060 - auc: 0.4920\n",
            "Epoch 13/50\n",
            "75/75 [==============================] - 0s 4ms/step - loss: 0.5323 - accuracy: 0.8109 - auc: 0.5020\n",
            "Epoch 14/50\n",
            "75/75 [==============================] - 0s 4ms/step - loss: 0.5288 - accuracy: 0.8077 - auc: 0.4979\n",
            "Epoch 15/50\n",
            "75/75 [==============================] - 0s 4ms/step - loss: 0.5270 - accuracy: 0.8035 - auc: 0.5096\n",
            "Epoch 16/50\n",
            "75/75 [==============================] - 0s 4ms/step - loss: 0.5208 - accuracy: 0.8056 - auc: 0.4974\n",
            "Epoch 17/50\n",
            "75/75 [==============================] - 0s 3ms/step - loss: 0.5095 - accuracy: 0.8139 - auc: 0.5082\n",
            "Epoch 18/50\n",
            "75/75 [==============================] - 0s 3ms/step - loss: 0.5157 - accuracy: 0.8032 - auc: 0.5013\n",
            "Epoch 19/50\n",
            "75/75 [==============================] - 0s 5ms/step - loss: 0.5210 - accuracy: 0.7946 - auc: 0.5221\n",
            "Epoch 20/50\n",
            "75/75 [==============================] - 0s 3ms/step - loss: 0.5067 - accuracy: 0.8067 - auc: 0.5003\n",
            "Epoch 21/50\n",
            "75/75 [==============================] - 0s 3ms/step - loss: 0.5050 - accuracy: 0.8060 - auc: 0.5011\n",
            "Epoch 22/50\n",
            "75/75 [==============================] - 0s 3ms/step - loss: 0.5063 - accuracy: 0.8029 - auc: 0.5048\n",
            "Epoch 23/50\n",
            "75/75 [==============================] - 0s 3ms/step - loss: 0.5018 - accuracy: 0.8055 - auc: 0.4929\n",
            "Epoch 24/50\n",
            "75/75 [==============================] - 0s 4ms/step - loss: 0.5130 - accuracy: 0.7942 - auc: 0.5013\n",
            "Epoch 25/50\n",
            "75/75 [==============================] - 0s 3ms/step - loss: 0.5001 - accuracy: 0.8047 - auc: 0.4976\n",
            "Epoch 26/50\n",
            "75/75 [==============================] - 0s 4ms/step - loss: 0.4914 - accuracy: 0.8112 - auc: 0.4978\n",
            "Epoch 27/50\n",
            "75/75 [==============================] - 0s 4ms/step - loss: 0.4985 - accuracy: 0.8043 - auc: 0.4998\n",
            "Epoch 28/50\n",
            "75/75 [==============================] - 0s 3ms/step - loss: 0.4908 - accuracy: 0.8102 - auc: 0.5000\n",
            "Epoch 29/50\n",
            "75/75 [==============================] - 0s 4ms/step - loss: 0.4898 - accuracy: 0.8103 - auc: 0.4939\n",
            "Epoch 30/50\n",
            "75/75 [==============================] - 0s 3ms/step - loss: 0.4952 - accuracy: 0.8055 - auc: 0.5000\n",
            "Epoch 31/50\n",
            "75/75 [==============================] - 0s 3ms/step - loss: 0.4872 - accuracy: 0.8115 - auc: 0.5049\n",
            "Epoch 32/50\n",
            "75/75 [==============================] - 0s 3ms/step - loss: 0.5049 - accuracy: 0.7973 - auc: 0.5000\n",
            "Epoch 33/50\n",
            "75/75 [==============================] - 0s 3ms/step - loss: 0.4917 - accuracy: 0.8073 - auc: 0.4909\n",
            "Epoch 34/50\n",
            "75/75 [==============================] - 0s 4ms/step - loss: 0.4734 - accuracy: 0.8211 - auc: 0.5000\n",
            "Epoch 35/50\n",
            "75/75 [==============================] - 0s 4ms/step - loss: 0.4911 - accuracy: 0.8074 - auc: 0.4870\n",
            "Epoch 36/50\n",
            "75/75 [==============================] - 0s 4ms/step - loss: 0.4863 - accuracy: 0.8109 - auc: 0.5000\n",
            "Epoch 37/50\n",
            "75/75 [==============================] - 0s 4ms/step - loss: 0.4988 - accuracy: 0.8013 - auc: 0.5000\n",
            "Epoch 38/50\n",
            "75/75 [==============================] - 0s 4ms/step - loss: 0.5064 - accuracy: 0.7956 - auc: 0.5028\n",
            "Epoch 39/50\n",
            "75/75 [==============================] - 0s 4ms/step - loss: 0.5048 - accuracy: 0.7968 - auc: 0.5000\n",
            "Epoch 40/50\n",
            "75/75 [==============================] - 0s 4ms/step - loss: 0.5059 - accuracy: 0.7960 - auc: 0.5000\n",
            "Epoch 41/50\n",
            "75/75 [==============================] - 0s 3ms/step - loss: 0.4908 - accuracy: 0.8070 - auc: 0.5000\n",
            "Epoch 42/50\n",
            "75/75 [==============================] - 0s 4ms/step - loss: 0.5008 - accuracy: 0.7997 - auc: 0.4997\n",
            "Epoch 43/50\n",
            "75/75 [==============================] - 0s 4ms/step - loss: 0.5065 - accuracy: 0.7956 - auc: 0.5000\n",
            "Epoch 44/50\n",
            "75/75 [==============================] - 0s 3ms/step - loss: 0.4903 - accuracy: 0.8072 - auc: 0.5000\n",
            "Epoch 45/50\n",
            "75/75 [==============================] - 0s 3ms/step - loss: 0.4895 - accuracy: 0.8078 - auc: 0.5000\n",
            "Epoch 46/50\n",
            "75/75 [==============================] - 0s 4ms/step - loss: 0.4960 - accuracy: 0.8032 - auc: 0.5000\n",
            "Epoch 47/50\n",
            "75/75 [==============================] - 0s 4ms/step - loss: 0.5089 - accuracy: 0.7939 - auc: 0.5000\n",
            "Epoch 48/50\n",
            "75/75 [==============================] - 0s 4ms/step - loss: 0.5001 - accuracy: 0.8002 - auc: 0.5000\n",
            "Epoch 49/50\n",
            "75/75 [==============================] - 0s 3ms/step - loss: 0.4807 - accuracy: 0.8140 - auc: 0.5000\n",
            "Epoch 50/50\n",
            "75/75 [==============================] - 0s 3ms/step - loss: 0.5011 - accuracy: 0.7996 - auc: 0.5000\n"
          ],
          "name": "stdout"
        }
      ]
    },
    {
      "cell_type": "code",
      "metadata": {
        "colab": {
          "base_uri": "https://localhost:8080/"
        },
        "id": "Nf5vBqwbSETT",
        "outputId": "ee05bc9f-d840-4259-a28c-0c2d85869813"
      },
      "source": [
        "print(\"Best: %f using %s\" % (grid_result.best_score_, grid_result.best_params_))\n",
        "means = grid_result.cv_results_['mean_test_score']\n",
        "stds = grid_result.cv_results_['std_test_score']\n",
        "params = grid_result.cv_results_['params']\n",
        "for mean, sd, param in zip(means, stds, params):\n",
        "  print(\"%f (%f) with: %r\" % (mean, sd, param))"
      ],
      "execution_count": null,
      "outputs": [
        {
          "output_type": "stream",
          "text": [
            "Best: 0.806667 using {'batch_size': 32, 'epochs': 50}\n",
            "0.805833 (0.009807) with: {'batch_size': 16, 'epochs': 10}\n",
            "0.805833 (0.009807) with: {'batch_size': 16, 'epochs': 25}\n",
            "0.805833 (0.009807) with: {'batch_size': 16, 'epochs': 50}\n",
            "0.805833 (0.009807) with: {'batch_size': 16, 'epochs': 100}\n",
            "0.805833 (0.009807) with: {'batch_size': 32, 'epochs': 10}\n",
            "0.805833 (0.009807) with: {'batch_size': 32, 'epochs': 25}\n",
            "0.806667 (0.010155) with: {'batch_size': 32, 'epochs': 50}\n",
            "0.805833 (0.009807) with: {'batch_size': 32, 'epochs': 100}\n",
            "0.805833 (0.009807) with: {'batch_size': 64, 'epochs': 10}\n",
            "0.805833 (0.009807) with: {'batch_size': 64, 'epochs': 25}\n",
            "0.805833 (0.009807) with: {'batch_size': 64, 'epochs': 50}\n",
            "0.805833 (0.009807) with: {'batch_size': 64, 'epochs': 100}\n",
            "0.805833 (0.009807) with: {'batch_size': 128, 'epochs': 10}\n",
            "0.805833 (0.009807) with: {'batch_size': 128, 'epochs': 25}\n",
            "0.805833 (0.009807) with: {'batch_size': 128, 'epochs': 50}\n",
            "0.805833 (0.009807) with: {'batch_size': 128, 'epochs': 100}\n"
          ],
          "name": "stdout"
        }
      ]
    },
    {
      "cell_type": "code",
      "metadata": {
        "colab": {
          "base_uri": "https://localhost:8080/"
        },
        "id": "D_lGHEE2L-gL",
        "outputId": "e10c550e-8f1f-4e01-d533-bc7e1f402d73"
      },
      "source": [
        "grid.best_estimator_"
      ],
      "execution_count": null,
      "outputs": [
        {
          "output_type": "execute_result",
          "data": {
            "text/plain": [
              "<tensorflow.python.keras.wrappers.scikit_learn.KerasClassifier at 0x7f3752fe18d0>"
            ]
          },
          "metadata": {
            "tags": []
          },
          "execution_count": 23
        }
      ]
    },
    {
      "cell_type": "code",
      "metadata": {
        "id": "K2bcL2cRU3YX"
      },
      "source": [
        "best_model = Sequential()\n",
        "best_model.add(BatchNormalization(input_shape=[6006], momentum=0.80))\n",
        "best_model.add(Dense(1024, activation='relu'))\n",
        "best_model.add(Dropout(0.5))\n",
        "best_model.add(Dense(512, activation='relu'))\n",
        "best_model.add(Dropout(0.5))\n",
        "best_model.add(Dense(256, activation='relu'))\n",
        "best_model.add(Dropout(0.3))\n",
        "best_model.add(Dense(128, activation='relu'))\n",
        "best_model.add(Dropout(0.3))\n",
        "best_model.add(Dense(64, activation='relu'))\n",
        "best_model.add(Dropout(0.2))\n",
        "best_model.add(Dense(32, activation='relu'))\n",
        "best_model.add(Dropout(0.2))\n",
        "best_model.add(Dense(16, activation='relu'))\n",
        "best_model.add(Dropout(0.1))\n",
        "best_model.add(Dense(8, activation='relu'))\n",
        "best_model.add(Dropout(0.1))\n",
        "best_model.add(Dense(1, activation='sigmoid'))"
      ],
      "execution_count": null,
      "outputs": []
    },
    {
      "cell_type": "code",
      "metadata": {
        "id": "p0i_HEBv6rJa"
      },
      "source": [
        "#compile model\n",
        "best_model.compile(loss='binary_crossentropy', \n",
        "                   optimizer='adam', \n",
        "                   metrics=['accuracy', 'AUC'])\n",
        "\n",
        "early_stopping = tf.keras.callbacks.EarlyStopping(\n",
        "    monitor='val_auc', \n",
        "    verbose=1,\n",
        "    patience=20,\n",
        "    mode='max',\n",
        "    restore_best_weights=True)"
      ],
      "execution_count": null,
      "outputs": []
    },
    {
      "cell_type": "code",
      "metadata": {
        "id": "APQUm7C7ZyXh"
      },
      "source": [
        "y_train = y_train.astype('int')"
      ],
      "execution_count": null,
      "outputs": []
    },
    {
      "cell_type": "code",
      "metadata": {
        "colab": {
          "base_uri": "https://localhost:8080/"
        },
        "id": "8tOqrN2CYdFq",
        "outputId": "c1b97034-9760-46b2-995d-287f598dbf35"
      },
      "source": [
        "start_time = time.time()\n",
        "best_model.fit(x_train, \n",
        "               y_train, \n",
        "               batch_size=32, \n",
        "               epochs=100, \n",
        "               validation_split=0.15,\n",
        "               callbacks = [early_stopping])\n",
        "print('Training on 2400 images with train-val split of 85-15 takes %s seconds.'%round((time.time()-start_time),3))"
      ],
      "execution_count": null,
      "outputs": [
        {
          "output_type": "stream",
          "text": [
            "Epoch 1/100\n",
            "64/64 [==============================] - 7s 89ms/step - loss: 0.8816 - accuracy: 0.7499 - auc: 0.4810 - val_loss: 0.6809 - val_accuracy: 0.7944 - val_auc: 0.5223\n",
            "Epoch 2/100\n",
            "64/64 [==============================] - 6s 95ms/step - loss: 0.7757 - accuracy: 0.7673 - auc: 0.5026 - val_loss: 0.6595 - val_accuracy: 0.7944 - val_auc: 0.5063\n",
            "Epoch 3/100\n",
            "64/64 [==============================] - 5s 81ms/step - loss: 0.6750 - accuracy: 0.7938 - auc: 0.5178 - val_loss: 0.5337 - val_accuracy: 0.7944 - val_auc: 0.5323\n",
            "Epoch 4/100\n",
            "64/64 [==============================] - 5s 77ms/step - loss: 0.6169 - accuracy: 0.8043 - auc: 0.5032 - val_loss: 0.5789 - val_accuracy: 0.7944 - val_auc: 0.5449\n",
            "Epoch 5/100\n",
            "64/64 [==============================] - 5s 80ms/step - loss: 0.5804 - accuracy: 0.8009 - auc: 0.5128 - val_loss: 0.5338 - val_accuracy: 0.7944 - val_auc: 0.5519\n",
            "Epoch 6/100\n",
            "64/64 [==============================] - 6s 88ms/step - loss: 0.5453 - accuracy: 0.8058 - auc: 0.5437 - val_loss: 0.5350 - val_accuracy: 0.7944 - val_auc: 0.5589\n",
            "Epoch 7/100\n",
            "64/64 [==============================] - 6s 90ms/step - loss: 0.5260 - accuracy: 0.8232 - auc: 0.5226 - val_loss: 0.5476 - val_accuracy: 0.7944 - val_auc: 0.5677\n",
            "Epoch 8/100\n",
            "64/64 [==============================] - 5s 84ms/step - loss: 0.5249 - accuracy: 0.8174 - auc: 0.5184 - val_loss: 0.5258 - val_accuracy: 0.7944 - val_auc: 0.5784\n",
            "Epoch 9/100\n",
            "64/64 [==============================] - 5s 84ms/step - loss: 0.5422 - accuracy: 0.8096 - auc: 0.5110 - val_loss: 0.5082 - val_accuracy: 0.7944 - val_auc: 0.6028\n",
            "Epoch 10/100\n",
            "64/64 [==============================] - 5s 77ms/step - loss: 0.5284 - accuracy: 0.8063 - auc: 0.5422 - val_loss: 0.5049 - val_accuracy: 0.7944 - val_auc: 0.6325\n",
            "Epoch 11/100\n",
            "64/64 [==============================] - 5s 82ms/step - loss: 0.5285 - accuracy: 0.7935 - auc: 0.5535 - val_loss: 0.5060 - val_accuracy: 0.7944 - val_auc: 0.6311\n",
            "Epoch 12/100\n",
            "64/64 [==============================] - 6s 93ms/step - loss: 0.5055 - accuracy: 0.8061 - auc: 0.5634 - val_loss: 0.4947 - val_accuracy: 0.7944 - val_auc: 0.6570\n",
            "Epoch 13/100\n",
            "64/64 [==============================] - 5s 77ms/step - loss: 0.4947 - accuracy: 0.8081 - auc: 0.6046 - val_loss: 0.4846 - val_accuracy: 0.7944 - val_auc: 0.6594\n",
            "Epoch 14/100\n",
            "64/64 [==============================] - 6s 91ms/step - loss: 0.4768 - accuracy: 0.8152 - auc: 0.6072 - val_loss: 0.4944 - val_accuracy: 0.7944 - val_auc: 0.6486\n",
            "Epoch 15/100\n",
            "64/64 [==============================] - 6s 92ms/step - loss: 0.4918 - accuracy: 0.8107 - auc: 0.5877 - val_loss: 0.4871 - val_accuracy: 0.7944 - val_auc: 0.6568\n",
            "Epoch 16/100\n",
            "64/64 [==============================] - 5s 86ms/step - loss: 0.4757 - accuracy: 0.8169 - auc: 0.5976 - val_loss: 0.4841 - val_accuracy: 0.7944 - val_auc: 0.6722\n",
            "Epoch 17/100\n",
            "64/64 [==============================] - 5s 77ms/step - loss: 0.4815 - accuracy: 0.7972 - auc: 0.6332 - val_loss: 0.4857 - val_accuracy: 0.7944 - val_auc: 0.6392\n",
            "Epoch 18/100\n",
            "64/64 [==============================] - 5s 77ms/step - loss: 0.4435 - accuracy: 0.8110 - auc: 0.6967 - val_loss: 0.4906 - val_accuracy: 0.7944 - val_auc: 0.6800\n",
            "Epoch 19/100\n",
            "64/64 [==============================] - 5s 83ms/step - loss: 0.4694 - accuracy: 0.8012 - auc: 0.6784 - val_loss: 0.4815 - val_accuracy: 0.7944 - val_auc: 0.6987\n",
            "Epoch 20/100\n",
            "64/64 [==============================] - 6s 97ms/step - loss: 0.4527 - accuracy: 0.8170 - auc: 0.6667 - val_loss: 0.4703 - val_accuracy: 0.7944 - val_auc: 0.6965\n",
            "Epoch 21/100\n",
            "64/64 [==============================] - 6s 86ms/step - loss: 0.4437 - accuracy: 0.8075 - auc: 0.7075 - val_loss: 0.4635 - val_accuracy: 0.7944 - val_auc: 0.7133\n",
            "Epoch 22/100\n",
            "64/64 [==============================] - 6s 97ms/step - loss: 0.4569 - accuracy: 0.8018 - auc: 0.7229 - val_loss: 0.4670 - val_accuracy: 0.7944 - val_auc: 0.7230\n",
            "Epoch 23/100\n",
            "64/64 [==============================] - 6s 97ms/step - loss: 0.4419 - accuracy: 0.8014 - auc: 0.7405 - val_loss: 0.4644 - val_accuracy: 0.7944 - val_auc: 0.7336\n",
            "Epoch 24/100\n",
            "64/64 [==============================] - 6s 91ms/step - loss: 0.4072 - accuracy: 0.8253 - auc: 0.7483 - val_loss: 0.4750 - val_accuracy: 0.7944 - val_auc: 0.7187\n",
            "Epoch 25/100\n",
            "64/64 [==============================] - 6s 88ms/step - loss: 0.4087 - accuracy: 0.8154 - auc: 0.7616 - val_loss: 0.4873 - val_accuracy: 0.7944 - val_auc: 0.7309\n",
            "Epoch 26/100\n",
            "64/64 [==============================] - 6s 92ms/step - loss: 0.4069 - accuracy: 0.8129 - auc: 0.7711 - val_loss: 0.4656 - val_accuracy: 0.7944 - val_auc: 0.7625\n",
            "Epoch 27/100\n",
            "64/64 [==============================] - 6s 88ms/step - loss: 0.4068 - accuracy: 0.8106 - auc: 0.7785 - val_loss: 0.4761 - val_accuracy: 0.7944 - val_auc: 0.7707\n",
            "Epoch 28/100\n",
            "64/64 [==============================] - 6s 95ms/step - loss: 0.3993 - accuracy: 0.8106 - auc: 0.7971 - val_loss: 0.4890 - val_accuracy: 0.7944 - val_auc: 0.7482\n",
            "Epoch 29/100\n",
            "64/64 [==============================] - 6s 94ms/step - loss: 0.4240 - accuracy: 0.7934 - auc: 0.8000 - val_loss: 0.4665 - val_accuracy: 0.7944 - val_auc: 0.7737\n",
            "Epoch 30/100\n",
            "64/64 [==============================] - 6s 89ms/step - loss: 0.4017 - accuracy: 0.8049 - auc: 0.8030 - val_loss: 0.4517 - val_accuracy: 0.7944 - val_auc: 0.7778\n",
            "Epoch 31/100\n",
            "64/64 [==============================] - 5s 82ms/step - loss: 0.3914 - accuracy: 0.8160 - auc: 0.7860 - val_loss: 0.4647 - val_accuracy: 0.7944 - val_auc: 0.7727\n",
            "Epoch 32/100\n",
            "64/64 [==============================] - 5s 84ms/step - loss: 0.3915 - accuracy: 0.8177 - auc: 0.7944 - val_loss: 0.4647 - val_accuracy: 0.7944 - val_auc: 0.7729\n",
            "Epoch 33/100\n",
            "64/64 [==============================] - 5s 85ms/step - loss: 0.4042 - accuracy: 0.7918 - auc: 0.8243 - val_loss: 0.4942 - val_accuracy: 0.7944 - val_auc: 0.7555\n",
            "Epoch 34/100\n",
            "64/64 [==============================] - 6s 90ms/step - loss: 0.4058 - accuracy: 0.8170 - auc: 0.7765 - val_loss: 0.4974 - val_accuracy: 0.7944 - val_auc: 0.7446\n",
            "Epoch 35/100\n",
            "64/64 [==============================] - 5s 86ms/step - loss: 0.4053 - accuracy: 0.7972 - auc: 0.8104 - val_loss: 0.4534 - val_accuracy: 0.7944 - val_auc: 0.7850\n",
            "Epoch 36/100\n",
            "64/64 [==============================] - 5s 86ms/step - loss: 0.3668 - accuracy: 0.8152 - auc: 0.8302 - val_loss: 0.4656 - val_accuracy: 0.7944 - val_auc: 0.7765\n",
            "Epoch 37/100\n",
            "64/64 [==============================] - 5s 82ms/step - loss: 0.3994 - accuracy: 0.7944 - auc: 0.8103 - val_loss: 0.4953 - val_accuracy: 0.7944 - val_auc: 0.7749\n",
            "Epoch 38/100\n",
            "64/64 [==============================] - 5s 78ms/step - loss: 0.3796 - accuracy: 0.8215 - auc: 0.8430 - val_loss: 0.4793 - val_accuracy: 0.7944 - val_auc: 0.8004\n",
            "Epoch 39/100\n",
            "64/64 [==============================] - 6s 101ms/step - loss: 0.3735 - accuracy: 0.7986 - auc: 0.8528 - val_loss: 0.4839 - val_accuracy: 0.7944 - val_auc: 0.7910\n",
            "Epoch 40/100\n",
            "64/64 [==============================] - 6s 93ms/step - loss: 0.3529 - accuracy: 0.8230 - auc: 0.8596 - val_loss: 0.4895 - val_accuracy: 0.7944 - val_auc: 0.8000\n",
            "Epoch 41/100\n",
            "64/64 [==============================] - 5s 82ms/step - loss: 0.3619 - accuracy: 0.8065 - auc: 0.8528 - val_loss: 0.5122 - val_accuracy: 0.7944 - val_auc: 0.8190\n",
            "Epoch 42/100\n",
            "64/64 [==============================] - 5s 82ms/step - loss: 0.3660 - accuracy: 0.8049 - auc: 0.8621 - val_loss: 0.4892 - val_accuracy: 0.8028 - val_auc: 0.8021\n",
            "Epoch 43/100\n",
            "64/64 [==============================] - 6s 87ms/step - loss: 0.3408 - accuracy: 0.8209 - auc: 0.8688 - val_loss: 0.4572 - val_accuracy: 0.7917 - val_auc: 0.8054\n",
            "Epoch 44/100\n",
            "64/64 [==============================] - 5s 82ms/step - loss: 0.3524 - accuracy: 0.8149 - auc: 0.8673 - val_loss: 0.5430 - val_accuracy: 0.8167 - val_auc: 0.7916\n",
            "Epoch 45/100\n",
            "64/64 [==============================] - 6s 90ms/step - loss: 0.3630 - accuracy: 0.8188 - auc: 0.8596 - val_loss: 0.4714 - val_accuracy: 0.7944 - val_auc: 0.8024\n",
            "Epoch 46/100\n",
            "64/64 [==============================] - 5s 86ms/step - loss: 0.3783 - accuracy: 0.8084 - auc: 0.8434 - val_loss: 0.4696 - val_accuracy: 0.8056 - val_auc: 0.7882\n",
            "Epoch 47/100\n",
            "64/64 [==============================] - 6s 91ms/step - loss: 0.3257 - accuracy: 0.8271 - auc: 0.8861 - val_loss: 0.4754 - val_accuracy: 0.8278 - val_auc: 0.8118\n",
            "Epoch 48/100\n",
            "64/64 [==============================] - 5s 78ms/step - loss: 0.3381 - accuracy: 0.8119 - auc: 0.8830 - val_loss: 0.4479 - val_accuracy: 0.8194 - val_auc: 0.8160\n",
            "Epoch 49/100\n",
            "64/64 [==============================] - 5s 85ms/step - loss: 0.3649 - accuracy: 0.8086 - auc: 0.8498 - val_loss: 0.4754 - val_accuracy: 0.8333 - val_auc: 0.8230\n",
            "Epoch 50/100\n",
            "64/64 [==============================] - 6s 95ms/step - loss: 0.3612 - accuracy: 0.8239 - auc: 0.8792 - val_loss: 0.5097 - val_accuracy: 0.8167 - val_auc: 0.8054\n",
            "Epoch 51/100\n",
            "64/64 [==============================] - 6s 90ms/step - loss: 0.3245 - accuracy: 0.8230 - auc: 0.8908 - val_loss: 0.5839 - val_accuracy: 0.8278 - val_auc: 0.8211\n",
            "Epoch 52/100\n",
            "64/64 [==============================] - 5s 79ms/step - loss: 0.3133 - accuracy: 0.8373 - auc: 0.8901 - val_loss: 0.4969 - val_accuracy: 0.8222 - val_auc: 0.8071\n",
            "Epoch 53/100\n",
            "64/64 [==============================] - 6s 88ms/step - loss: 0.3204 - accuracy: 0.8410 - auc: 0.9022 - val_loss: 0.4648 - val_accuracy: 0.8306 - val_auc: 0.8230\n",
            "Epoch 54/100\n",
            "64/64 [==============================] - 6s 90ms/step - loss: 0.3071 - accuracy: 0.8639 - auc: 0.9047 - val_loss: 0.5056 - val_accuracy: 0.8000 - val_auc: 0.8003\n",
            "Epoch 55/100\n",
            "64/64 [==============================] - 5s 83ms/step - loss: 0.3087 - accuracy: 0.8525 - auc: 0.8929 - val_loss: 0.4908 - val_accuracy: 0.8333 - val_auc: 0.8310\n",
            "Epoch 56/100\n",
            "64/64 [==============================] - 5s 79ms/step - loss: 0.2750 - accuracy: 0.8588 - auc: 0.9203 - val_loss: 0.4839 - val_accuracy: 0.8250 - val_auc: 0.8266\n",
            "Epoch 57/100\n",
            "64/64 [==============================] - 6s 92ms/step - loss: 0.2928 - accuracy: 0.8805 - auc: 0.9058 - val_loss: 0.4705 - val_accuracy: 0.8139 - val_auc: 0.7995\n",
            "Epoch 58/100\n",
            "64/64 [==============================] - 6s 94ms/step - loss: 0.3053 - accuracy: 0.8624 - auc: 0.9106 - val_loss: 0.5331 - val_accuracy: 0.7944 - val_auc: 0.8083\n",
            "Epoch 59/100\n",
            "64/64 [==============================] - 6s 88ms/step - loss: 0.2669 - accuracy: 0.8651 - auc: 0.9213 - val_loss: 0.5874 - val_accuracy: 0.8167 - val_auc: 0.8168\n",
            "Epoch 60/100\n",
            "64/64 [==============================] - 5s 79ms/step - loss: 0.2701 - accuracy: 0.8730 - auc: 0.9267 - val_loss: 0.4814 - val_accuracy: 0.8222 - val_auc: 0.8321\n",
            "Epoch 61/100\n",
            "64/64 [==============================] - 5s 80ms/step - loss: 0.2928 - accuracy: 0.8468 - auc: 0.9047 - val_loss: 0.5230 - val_accuracy: 0.8417 - val_auc: 0.8250\n",
            "Epoch 62/100\n",
            "64/64 [==============================] - 5s 82ms/step - loss: 0.2712 - accuracy: 0.8711 - auc: 0.9271 - val_loss: 0.5546 - val_accuracy: 0.8333 - val_auc: 0.8256\n",
            "Epoch 63/100\n",
            "64/64 [==============================] - 5s 83ms/step - loss: 0.2754 - accuracy: 0.8691 - auc: 0.9223 - val_loss: 0.5074 - val_accuracy: 0.8333 - val_auc: 0.8252\n",
            "Epoch 64/100\n",
            "64/64 [==============================] - 6s 91ms/step - loss: 0.2641 - accuracy: 0.8720 - auc: 0.9284 - val_loss: 0.4711 - val_accuracy: 0.8222 - val_auc: 0.8225\n",
            "Epoch 65/100\n",
            "64/64 [==============================] - 6s 93ms/step - loss: 0.2554 - accuracy: 0.8843 - auc: 0.9349 - val_loss: 0.5201 - val_accuracy: 0.8472 - val_auc: 0.8166\n",
            "Epoch 66/100\n",
            "64/64 [==============================] - 5s 84ms/step - loss: 0.2662 - accuracy: 0.8786 - auc: 0.9289 - val_loss: 0.6056 - val_accuracy: 0.8361 - val_auc: 0.8134\n",
            "Epoch 67/100\n",
            "64/64 [==============================] - 6s 86ms/step - loss: 0.2363 - accuracy: 0.8843 - auc: 0.9386 - val_loss: 0.4382 - val_accuracy: 0.8222 - val_auc: 0.8359\n",
            "Epoch 68/100\n",
            "64/64 [==============================] - 6s 90ms/step - loss: 0.2474 - accuracy: 0.8944 - auc: 0.9341 - val_loss: 0.4783 - val_accuracy: 0.8417 - val_auc: 0.8317\n",
            "Epoch 69/100\n",
            "64/64 [==============================] - 6s 91ms/step - loss: 0.2370 - accuracy: 0.8889 - auc: 0.9456 - val_loss: 0.5061 - val_accuracy: 0.8333 - val_auc: 0.8343\n",
            "Epoch 70/100\n",
            "64/64 [==============================] - 6s 88ms/step - loss: 0.2296 - accuracy: 0.9079 - auc: 0.9483 - val_loss: 0.4097 - val_accuracy: 0.8472 - val_auc: 0.8389\n",
            "Epoch 71/100\n",
            "64/64 [==============================] - 6s 93ms/step - loss: 0.2146 - accuracy: 0.8998 - auc: 0.9571 - val_loss: 0.4911 - val_accuracy: 0.8167 - val_auc: 0.8276\n",
            "Epoch 72/100\n",
            "64/64 [==============================] - 6s 95ms/step - loss: 0.2480 - accuracy: 0.8867 - auc: 0.9395 - val_loss: 0.5337 - val_accuracy: 0.8444 - val_auc: 0.8429\n",
            "Epoch 73/100\n",
            "64/64 [==============================] - 5s 79ms/step - loss: 0.2319 - accuracy: 0.8958 - auc: 0.9464 - val_loss: 0.4530 - val_accuracy: 0.8389 - val_auc: 0.8338\n",
            "Epoch 74/100\n",
            "64/64 [==============================] - 5s 79ms/step - loss: 0.2176 - accuracy: 0.8991 - auc: 0.9554 - val_loss: 0.4378 - val_accuracy: 0.8139 - val_auc: 0.8134\n",
            "Epoch 75/100\n",
            "64/64 [==============================] - 6s 88ms/step - loss: 0.2232 - accuracy: 0.8981 - auc: 0.9505 - val_loss: 0.4885 - val_accuracy: 0.8167 - val_auc: 0.8298\n",
            "Epoch 76/100\n",
            "64/64 [==============================] - 6s 87ms/step - loss: 0.2218 - accuracy: 0.8934 - auc: 0.9563 - val_loss: 0.6402 - val_accuracy: 0.8417 - val_auc: 0.8110\n",
            "Epoch 77/100\n",
            "64/64 [==============================] - 6s 90ms/step - loss: 0.2176 - accuracy: 0.9074 - auc: 0.9553 - val_loss: 0.4746 - val_accuracy: 0.8361 - val_auc: 0.8251\n",
            "Epoch 78/100\n",
            "64/64 [==============================] - 6s 91ms/step - loss: 0.2117 - accuracy: 0.9132 - auc: 0.9556 - val_loss: 0.5557 - val_accuracy: 0.8417 - val_auc: 0.8290\n",
            "Epoch 79/100\n",
            "64/64 [==============================] - 6s 91ms/step - loss: 0.2237 - accuracy: 0.8989 - auc: 0.9503 - val_loss: 0.5629 - val_accuracy: 0.8306 - val_auc: 0.8420\n",
            "Epoch 80/100\n",
            "64/64 [==============================] - 6s 87ms/step - loss: 0.1987 - accuracy: 0.9019 - auc: 0.9608 - val_loss: 0.4818 - val_accuracy: 0.8389 - val_auc: 0.8169\n",
            "Epoch 81/100\n",
            "64/64 [==============================] - 6s 91ms/step - loss: 0.2508 - accuracy: 0.8968 - auc: 0.9423 - val_loss: 0.6518 - val_accuracy: 0.8417 - val_auc: 0.8377\n",
            "Epoch 82/100\n",
            "64/64 [==============================] - 6s 93ms/step - loss: 0.2198 - accuracy: 0.9155 - auc: 0.9539 - val_loss: 0.4967 - val_accuracy: 0.8417 - val_auc: 0.8427\n",
            "Epoch 83/100\n",
            "64/64 [==============================] - 6s 89ms/step - loss: 0.2054 - accuracy: 0.9071 - auc: 0.9578 - val_loss: 0.5128 - val_accuracy: 0.8222 - val_auc: 0.8352\n",
            "Epoch 84/100\n",
            "64/64 [==============================] - 5s 84ms/step - loss: 0.2185 - accuracy: 0.9035 - auc: 0.9525 - val_loss: 0.8019 - val_accuracy: 0.8472 - val_auc: 0.8128\n",
            "Epoch 85/100\n",
            "64/64 [==============================] - 5s 86ms/step - loss: 0.1928 - accuracy: 0.9223 - auc: 0.9615 - val_loss: 0.4449 - val_accuracy: 0.8361 - val_auc: 0.8436\n",
            "Epoch 86/100\n",
            "64/64 [==============================] - 6s 94ms/step - loss: 0.2151 - accuracy: 0.9106 - auc: 0.9539 - val_loss: 0.5118 - val_accuracy: 0.8444 - val_auc: 0.8475\n",
            "Epoch 87/100\n",
            "64/64 [==============================] - 5s 86ms/step - loss: 0.1935 - accuracy: 0.9058 - auc: 0.9642 - val_loss: 0.4860 - val_accuracy: 0.8306 - val_auc: 0.8320\n",
            "Epoch 88/100\n",
            "64/64 [==============================] - 6s 99ms/step - loss: 0.1867 - accuracy: 0.9136 - auc: 0.9672 - val_loss: 0.7371 - val_accuracy: 0.8472 - val_auc: 0.8262\n",
            "Epoch 89/100\n",
            "64/64 [==============================] - 5s 83ms/step - loss: 0.2059 - accuracy: 0.9065 - auc: 0.9601 - val_loss: 0.8253 - val_accuracy: 0.8306 - val_auc: 0.8136\n",
            "Epoch 90/100\n",
            "64/64 [==============================] - 6s 95ms/step - loss: 0.1959 - accuracy: 0.9174 - auc: 0.9632 - val_loss: 0.7680 - val_accuracy: 0.8167 - val_auc: 0.8241\n",
            "Epoch 91/100\n",
            "64/64 [==============================] - 5s 84ms/step - loss: 0.1676 - accuracy: 0.9265 - auc: 0.9717 - val_loss: 0.5505 - val_accuracy: 0.8361 - val_auc: 0.8272\n",
            "Epoch 92/100\n",
            "64/64 [==============================] - 5s 79ms/step - loss: 0.1770 - accuracy: 0.9139 - auc: 0.9705 - val_loss: 0.5271 - val_accuracy: 0.8250 - val_auc: 0.8280\n",
            "Epoch 93/100\n",
            "64/64 [==============================] - 5s 80ms/step - loss: 0.1900 - accuracy: 0.9155 - auc: 0.9667 - val_loss: 0.6167 - val_accuracy: 0.8639 - val_auc: 0.8500\n",
            "Epoch 94/100\n",
            "64/64 [==============================] - 6s 92ms/step - loss: 0.1449 - accuracy: 0.9299 - auc: 0.9790 - val_loss: 0.7194 - val_accuracy: 0.8556 - val_auc: 0.8274\n",
            "Epoch 95/100\n",
            "64/64 [==============================] - 6s 91ms/step - loss: 0.1607 - accuracy: 0.9298 - auc: 0.9734 - val_loss: 0.5095 - val_accuracy: 0.8361 - val_auc: 0.8473\n",
            "Epoch 96/100\n",
            "64/64 [==============================] - 5s 83ms/step - loss: 0.1650 - accuracy: 0.9327 - auc: 0.9763 - val_loss: 0.5400 - val_accuracy: 0.8528 - val_auc: 0.8378\n",
            "Epoch 97/100\n",
            "64/64 [==============================] - 5s 84ms/step - loss: 0.1813 - accuracy: 0.9170 - auc: 0.9755 - val_loss: 0.5329 - val_accuracy: 0.8528 - val_auc: 0.8460\n",
            "Epoch 98/100\n",
            "64/64 [==============================] - 5s 81ms/step - loss: 0.1526 - accuracy: 0.9395 - auc: 0.9794 - val_loss: 0.6129 - val_accuracy: 0.8278 - val_auc: 0.8391\n",
            "Epoch 99/100\n",
            "64/64 [==============================] - 6s 94ms/step - loss: 0.1400 - accuracy: 0.9446 - auc: 0.9763 - val_loss: 0.5862 - val_accuracy: 0.8556 - val_auc: 0.8432\n",
            "Epoch 100/100\n",
            "64/64 [==============================] - 6s 94ms/step - loss: 0.1533 - accuracy: 0.9234 - auc: 0.9776 - val_loss: 0.6577 - val_accuracy: 0.8333 - val_auc: 0.8317\n",
            "Training on 2400 images with train-val split of 85-15 takes 559.284 seconds.\n"
          ],
          "name": "stdout"
        }
      ]
    },
    {
      "cell_type": "code",
      "metadata": {
        "id": "Qjo2xyYTbm2x"
      },
      "source": [
        "y_test = y_test.astype('int')"
      ],
      "execution_count": null,
      "outputs": []
    },
    {
      "cell_type": "code",
      "metadata": {
        "colab": {
          "base_uri": "https://localhost:8080/"
        },
        "id": "wRk1_2g0YZma",
        "outputId": "3c3070a0-5f7f-4f8e-aec7-b1b7b2336685"
      },
      "source": [
        "start_time = time.time()\n",
        "best_model.evaluate(x_test, y_test, batch_size=32, verbose=1)\n",
        "print('Prediction on 600 images takes %s seconds.'%round((time.time()-start_time),3))"
      ],
      "execution_count": null,
      "outputs": [
        {
          "output_type": "stream",
          "text": [
            "19/19 [==============================] - 0s 20ms/step - loss: 1.0841 - accuracy: 0.8300 - auc: 0.8147\n",
            "Prediction on 600 images takes 0.562 seconds.\n"
          ],
          "name": "stdout"
        }
      ]
    },
    {
      "cell_type": "code",
      "metadata": {
        "id": "7nGOMWpddYot"
      },
      "source": [
        "tf.keras.models.save_model(best_model, '/gdrive/MyDrive/STAT5243/data/neural_network', save_format='h5')"
      ],
      "execution_count": null,
      "outputs": []
    },
    {
      "cell_type": "code",
      "metadata": {
        "id": "1hyPsIvSeG_g"
      },
      "source": [
        "best_model = tf.keras.models.load_model('/gdrive/MyDrive/STAT5243/data/neural_network')"
      ],
      "execution_count": null,
      "outputs": []
    },
    {
      "cell_type": "code",
      "metadata": {
        "id": "WqTkTZ4menNG",
        "colab": {
          "base_uri": "https://localhost:8080/"
        },
        "outputId": "7fb2eed0-8ef3-4a0e-ab1a-775cae5bd3e4"
      },
      "source": [
        "best_model.summary()"
      ],
      "execution_count": null,
      "outputs": [
        {
          "output_type": "stream",
          "text": [
            "Model: \"sequential_7\"\n",
            "_________________________________________________________________\n",
            "Layer (type)                 Output Shape              Param #   \n",
            "=================================================================\n",
            "dense_22 (Dense)             (None, 9)                 54063     \n",
            "_________________________________________________________________\n",
            "dense_23 (Dense)             (None, 7)                 70        \n",
            "_________________________________________________________________\n",
            "dense_24 (Dense)             (None, 3)                 24        \n",
            "_________________________________________________________________\n",
            "dense_25 (Dense)             (None, 1)                 4         \n",
            "=================================================================\n",
            "Total params: 54,161\n",
            "Trainable params: 54,161\n",
            "Non-trainable params: 0\n",
            "_________________________________________________________________\n"
          ],
          "name": "stdout"
        }
      ]
    },
    {
      "cell_type": "code",
      "metadata": {
        "id": "LHujaWIqerMp"
      },
      "source": [
        ""
      ],
      "execution_count": null,
      "outputs": []
    }
  ]
}