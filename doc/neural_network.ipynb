{
  "nbformat": 4,
  "nbformat_minor": 0,
  "metadata": {
    "colab": {
      "name": "stat_proj.ipynb",
      "provenance": [],
      "collapsed_sections": []
    },
    "kernelspec": {
      "name": "python3",
      "display_name": "Python 3"
    }
  },
  "cells": [
    {
      "cell_type": "code",
      "metadata": {
        "id": "6lzzuZ-Sbc8b"
      },
      "source": [
        "import numpy as np\n",
        "import pandas as pd\n",
        "import os\n",
        "import scipy.io\n",
        "import tensorflow as tf\n",
        "import matplotlib.pyplot as plt\n",
        "from tensorflow import keras\n",
        "from tensorflow.keras.models import Sequential\n",
        "from tensorflow.keras.wrappers.scikit_learn import KerasClassifier\n",
        "from tensorflow.keras.layers import Dense\n",
        "from tensorflow.keras.layers import BatchNormalization\n",
        "from tensorflow.keras.layers import Dropout\n",
        "from sklearn.model_selection import GridSearchCV\n",
        "import scipy.io\n",
        "import time\n",
        "import pyreadr"
      ],
      "execution_count": 1,
      "outputs": []
    },
    {
      "cell_type": "code",
      "metadata": {
        "colab": {
          "base_uri": "https://localhost:8080/"
        },
        "id": "5tUyjsVtvr4x",
        "outputId": "5c2aae6c-29ee-4c8d-c3ec-bb4453cdd28f"
      },
      "source": [
        "# from google.colab import drive\n",
        "# drive.mount('/gdrive')"
      ],
      "execution_count": 2,
      "outputs": [
        {
          "output_type": "stream",
          "text": [
            "Mounted at /gdrive\n"
          ],
          "name": "stdout"
        }
      ]
    },
    {
      "cell_type": "code",
      "metadata": {
        "id": "cdO-SEaqHf_h"
      },
      "source": [
        "train_dat = pyreadr.read_r('../output/feature_train.RData')\n",
        "test_dat = pyreadr.read_r('../output/feature_test.RData')\n",
        "\n",
        "train_dat = list(train_dat.items())[0][1]\n",
        "test_dat = list(test_dat.items())[0][1]"
      ],
      "execution_count": 6,
      "outputs": []
    },
    {
      "cell_type": "code",
      "metadata": {
        "id": "owOg8VjaJArZ"
      },
      "source": [
        "x_train = train_dat.iloc[:,:-1]\n",
        "y_train = train_dat.iloc[:,-1]\n",
        "x_test = test_dat.iloc[:,:-1]\n",
        "y_test = test_dat.iloc[:,-1]"
      ],
      "execution_count": 7,
      "outputs": []
    },
    {
      "cell_type": "code",
      "metadata": {
        "id": "K2bcL2cRU3YX"
      },
      "source": [
        "best_model = Sequential()\n",
        "best_model.add(BatchNormalization(input_shape=[6006], momentum=0.80))\n",
        "best_model.add(Dense(1024, activation='relu'))\n",
        "best_model.add(Dropout(0.5))\n",
        "best_model.add(Dense(512, activation='relu'))\n",
        "best_model.add(Dropout(0.5))\n",
        "best_model.add(Dense(256, activation='relu'))\n",
        "best_model.add(Dropout(0.3))\n",
        "best_model.add(Dense(128, activation='relu'))\n",
        "best_model.add(Dropout(0.3))\n",
        "best_model.add(Dense(64, activation='relu'))\n",
        "best_model.add(Dropout(0.2))\n",
        "best_model.add(Dense(32, activation='relu'))\n",
        "best_model.add(Dropout(0.2))\n",
        "best_model.add(Dense(16, activation='relu'))\n",
        "best_model.add(Dropout(0.1))\n",
        "best_model.add(Dense(8, activation='relu'))\n",
        "best_model.add(Dropout(0.1))\n",
        "best_model.add(Dense(1, activation='sigmoid'))"
      ],
      "execution_count": 8,
      "outputs": []
    },
    {
      "cell_type": "code",
      "metadata": {
        "id": "p0i_HEBv6rJa"
      },
      "source": [
        "#compile model\n",
        "best_model.compile(loss='binary_crossentropy', \n",
        "                   optimizer='adam', \n",
        "                   metrics=['accuracy', 'AUC'])\n",
        "\n",
        "early_stopping = tf.keras.callbacks.EarlyStopping(\n",
        "    monitor='val_auc', \n",
        "    verbose=1,\n",
        "    patience=20,\n",
        "    mode='max',\n",
        "    restore_best_weights=True)"
      ],
      "execution_count": 15,
      "outputs": []
    },
    {
      "cell_type": "code",
      "metadata": {
        "id": "APQUm7C7ZyXh"
      },
      "source": [
        "y_train = y_train.astype('int')"
      ],
      "execution_count": 16,
      "outputs": []
    },
    {
      "cell_type": "code",
      "metadata": {
        "colab": {
          "base_uri": "https://localhost:8080/"
        },
        "id": "8tOqrN2CYdFq",
        "outputId": "6146a538-ba32-4cb1-d446-2acd70c0a92b"
      },
      "source": [
        "start_time = time.time()\n",
        "best_model.fit(x_train, \n",
        "               y_train, \n",
        "               batch_size=32, \n",
        "               epochs=100, \n",
        "               validation_split=0.15,\n",
        "               callbacks = [early_stopping])\n",
        "print('Training on 2400 images with train-val split of 85-15 takes %s seconds.'%round((time.time()-start_time),3))"
      ],
      "execution_count": 17,
      "outputs": [
        {
          "output_type": "stream",
          "text": [
            "Epoch 1/100\n",
            "64/64 [==============================] - 7s 92ms/step - loss: 0.3380 - accuracy: 0.8077 - auc: 0.8903 - val_loss: 0.4885 - val_accuracy: 0.7944 - val_auc: 0.8038\n",
            "Epoch 2/100\n",
            "64/64 [==============================] - 6s 88ms/step - loss: 0.3240 - accuracy: 0.8073 - auc: 0.8992 - val_loss: 0.4833 - val_accuracy: 0.7944 - val_auc: 0.7949\n",
            "Epoch 3/100\n",
            "64/64 [==============================] - 6s 86ms/step - loss: 0.3339 - accuracy: 0.7944 - auc: 0.8936 - val_loss: 0.4328 - val_accuracy: 0.7944 - val_auc: 0.8089\n",
            "Epoch 4/100\n",
            "64/64 [==============================] - 5s 85ms/step - loss: 0.3494 - accuracy: 0.7951 - auc: 0.8785 - val_loss: 0.4869 - val_accuracy: 0.7944 - val_auc: 0.7917\n",
            "Epoch 5/100\n",
            "64/64 [==============================] - 6s 86ms/step - loss: 0.3670 - accuracy: 0.7991 - auc: 0.8680 - val_loss: 0.4992 - val_accuracy: 0.7944 - val_auc: 0.7797\n",
            "Epoch 6/100\n",
            "64/64 [==============================] - 6s 86ms/step - loss: 0.3278 - accuracy: 0.8136 - auc: 0.8849 - val_loss: 0.4813 - val_accuracy: 0.7944 - val_auc: 0.7403\n",
            "Epoch 7/100\n",
            "64/64 [==============================] - 6s 87ms/step - loss: 0.3639 - accuracy: 0.8031 - auc: 0.8507 - val_loss: 0.4929 - val_accuracy: 0.7944 - val_auc: 0.7818\n",
            "Epoch 8/100\n",
            "64/64 [==============================] - 5s 85ms/step - loss: 0.3215 - accuracy: 0.8078 - auc: 0.8894 - val_loss: 0.4710 - val_accuracy: 0.7944 - val_auc: 0.8132\n",
            "Epoch 9/100\n",
            "64/64 [==============================] - 6s 86ms/step - loss: 0.3221 - accuracy: 0.8161 - auc: 0.8896 - val_loss: 0.4540 - val_accuracy: 0.7944 - val_auc: 0.7935\n",
            "Epoch 10/100\n",
            "64/64 [==============================] - 5s 84ms/step - loss: 0.3121 - accuracy: 0.8136 - auc: 0.8906 - val_loss: 0.5434 - val_accuracy: 0.7944 - val_auc: 0.7924\n",
            "Epoch 11/100\n",
            "64/64 [==============================] - 5s 84ms/step - loss: 0.3147 - accuracy: 0.8063 - auc: 0.9026 - val_loss: 0.4410 - val_accuracy: 0.7944 - val_auc: 0.8028\n",
            "Epoch 12/100\n",
            "64/64 [==============================] - 5s 84ms/step - loss: 0.3196 - accuracy: 0.8108 - auc: 0.8961 - val_loss: 0.4898 - val_accuracy: 0.7944 - val_auc: 0.7947\n",
            "Epoch 13/100\n",
            "64/64 [==============================] - 5s 84ms/step - loss: 0.3200 - accuracy: 0.7956 - auc: 0.9010 - val_loss: 0.4387 - val_accuracy: 0.7944 - val_auc: 0.8205\n",
            "Epoch 14/100\n",
            "64/64 [==============================] - 5s 85ms/step - loss: 0.3524 - accuracy: 0.8093 - auc: 0.8828 - val_loss: 0.4221 - val_accuracy: 0.8139 - val_auc: 0.8198\n",
            "Epoch 15/100\n",
            "64/64 [==============================] - 5s 86ms/step - loss: 0.2963 - accuracy: 0.8531 - auc: 0.9088 - val_loss: 0.4986 - val_accuracy: 0.8000 - val_auc: 0.8007\n",
            "Epoch 16/100\n",
            "64/64 [==============================] - 5s 84ms/step - loss: 0.3010 - accuracy: 0.8441 - auc: 0.9016 - val_loss: 0.4907 - val_accuracy: 0.7889 - val_auc: 0.7791\n",
            "Epoch 17/100\n",
            "64/64 [==============================] - 5s 85ms/step - loss: 0.2881 - accuracy: 0.8660 - auc: 0.9097 - val_loss: 0.5509 - val_accuracy: 0.8167 - val_auc: 0.8199\n",
            "Epoch 18/100\n",
            "64/64 [==============================] - 5s 86ms/step - loss: 0.2734 - accuracy: 0.8756 - auc: 0.9215 - val_loss: 0.4391 - val_accuracy: 0.7778 - val_auc: 0.7984\n",
            "Epoch 19/100\n",
            "64/64 [==============================] - 5s 85ms/step - loss: 0.2994 - accuracy: 0.8751 - auc: 0.9129 - val_loss: 0.4912 - val_accuracy: 0.8083 - val_auc: 0.7992\n",
            "Epoch 20/100\n",
            "64/64 [==============================] - 5s 84ms/step - loss: 0.2691 - accuracy: 0.8939 - auc: 0.9371 - val_loss: 0.5219 - val_accuracy: 0.8111 - val_auc: 0.8129\n",
            "Epoch 21/100\n",
            "64/64 [==============================] - 5s 84ms/step - loss: 0.2649 - accuracy: 0.8718 - auc: 0.9316 - val_loss: 0.4919 - val_accuracy: 0.7694 - val_auc: 0.7844\n",
            "Epoch 22/100\n",
            "64/64 [==============================] - 5s 84ms/step - loss: 0.2791 - accuracy: 0.8635 - auc: 0.9232 - val_loss: 0.4892 - val_accuracy: 0.8028 - val_auc: 0.8163\n",
            "Epoch 23/100\n",
            "64/64 [==============================] - 5s 83ms/step - loss: 0.2721 - accuracy: 0.8829 - auc: 0.9293 - val_loss: 0.4935 - val_accuracy: 0.8000 - val_auc: 0.8252\n",
            "Epoch 24/100\n",
            "64/64 [==============================] - 5s 83ms/step - loss: 0.2735 - accuracy: 0.8934 - auc: 0.9285 - val_loss: 0.4628 - val_accuracy: 0.8000 - val_auc: 0.8198\n",
            "Epoch 25/100\n",
            "64/64 [==============================] - 5s 83ms/step - loss: 0.2548 - accuracy: 0.8860 - auc: 0.9340 - val_loss: 0.4992 - val_accuracy: 0.8194 - val_auc: 0.8198\n",
            "Epoch 26/100\n",
            "64/64 [==============================] - 5s 84ms/step - loss: 0.2458 - accuracy: 0.8930 - auc: 0.9423 - val_loss: 0.5271 - val_accuracy: 0.7944 - val_auc: 0.8151\n",
            "Epoch 27/100\n",
            "64/64 [==============================] - 5s 85ms/step - loss: 0.2718 - accuracy: 0.8733 - auc: 0.9214 - val_loss: 0.5841 - val_accuracy: 0.8083 - val_auc: 0.8052\n",
            "Epoch 28/100\n",
            "64/64 [==============================] - 5s 85ms/step - loss: 0.2713 - accuracy: 0.8819 - auc: 0.9259 - val_loss: 0.4804 - val_accuracy: 0.8028 - val_auc: 0.8202\n",
            "Epoch 29/100\n",
            "64/64 [==============================] - 5s 85ms/step - loss: 0.2544 - accuracy: 0.9065 - auc: 0.9423 - val_loss: 0.4571 - val_accuracy: 0.8000 - val_auc: 0.8249\n",
            "Epoch 30/100\n",
            "64/64 [==============================] - 5s 83ms/step - loss: 0.2563 - accuracy: 0.8879 - auc: 0.9373 - val_loss: 0.5280 - val_accuracy: 0.7722 - val_auc: 0.8106\n",
            "Epoch 31/100\n",
            "64/64 [==============================] - 5s 85ms/step - loss: 0.2577 - accuracy: 0.8813 - auc: 0.9234 - val_loss: 0.5031 - val_accuracy: 0.8000 - val_auc: 0.8144\n",
            "Epoch 32/100\n",
            "64/64 [==============================] - 5s 85ms/step - loss: 0.2470 - accuracy: 0.8970 - auc: 0.9420 - val_loss: 0.5243 - val_accuracy: 0.8056 - val_auc: 0.8321\n",
            "Epoch 33/100\n",
            "64/64 [==============================] - 5s 85ms/step - loss: 0.2489 - accuracy: 0.8816 - auc: 0.9326 - val_loss: 0.6199 - val_accuracy: 0.8111 - val_auc: 0.8088\n",
            "Epoch 34/100\n",
            "64/64 [==============================] - 5s 83ms/step - loss: 0.2480 - accuracy: 0.8955 - auc: 0.9429 - val_loss: 0.6825 - val_accuracy: 0.7972 - val_auc: 0.8095\n",
            "Epoch 35/100\n",
            "64/64 [==============================] - 6s 86ms/step - loss: 0.2491 - accuracy: 0.8996 - auc: 0.9429 - val_loss: 0.4634 - val_accuracy: 0.7750 - val_auc: 0.8260\n",
            "Epoch 36/100\n",
            "64/64 [==============================] - 5s 85ms/step - loss: 0.2495 - accuracy: 0.8921 - auc: 0.9398 - val_loss: 0.4875 - val_accuracy: 0.8000 - val_auc: 0.8285\n",
            "Epoch 37/100\n",
            "64/64 [==============================] - 5s 83ms/step - loss: 0.2736 - accuracy: 0.8702 - auc: 0.9252 - val_loss: 0.4890 - val_accuracy: 0.8000 - val_auc: 0.8287\n",
            "Epoch 38/100\n",
            "64/64 [==============================] - 5s 85ms/step - loss: 0.2295 - accuracy: 0.9088 - auc: 0.9561 - val_loss: 0.6315 - val_accuracy: 0.8083 - val_auc: 0.8175\n",
            "Epoch 39/100\n",
            "64/64 [==============================] - 5s 84ms/step - loss: 0.1994 - accuracy: 0.9136 - auc: 0.9615 - val_loss: 0.5526 - val_accuracy: 0.7694 - val_auc: 0.8045\n",
            "Epoch 40/100\n",
            "64/64 [==============================] - 5s 84ms/step - loss: 0.2292 - accuracy: 0.9176 - auc: 0.9517 - val_loss: 0.5539 - val_accuracy: 0.8083 - val_auc: 0.8242\n",
            "Epoch 41/100\n",
            "64/64 [==============================] - 6s 87ms/step - loss: 0.2099 - accuracy: 0.9097 - auc: 0.9553 - val_loss: 0.5413 - val_accuracy: 0.7944 - val_auc: 0.8047\n",
            "Epoch 42/100\n",
            "64/64 [==============================] - 5s 85ms/step - loss: 0.2224 - accuracy: 0.9176 - auc: 0.9546 - val_loss: 0.5634 - val_accuracy: 0.7972 - val_auc: 0.8200\n",
            "Epoch 43/100\n",
            "64/64 [==============================] - 5s 84ms/step - loss: 0.2178 - accuracy: 0.9073 - auc: 0.9593 - val_loss: 0.6592 - val_accuracy: 0.7972 - val_auc: 0.8025\n",
            "Epoch 44/100\n",
            "64/64 [==============================] - 5s 85ms/step - loss: 0.2006 - accuracy: 0.9216 - auc: 0.9601 - val_loss: 0.7116 - val_accuracy: 0.7972 - val_auc: 0.7918\n",
            "Epoch 45/100\n",
            "64/64 [==============================] - 5s 85ms/step - loss: 0.2240 - accuracy: 0.9007 - auc: 0.9525 - val_loss: 0.8205 - val_accuracy: 0.8222 - val_auc: 0.7988\n",
            "Epoch 46/100\n",
            "64/64 [==============================] - 5s 84ms/step - loss: 0.2052 - accuracy: 0.9241 - auc: 0.9645 - val_loss: 0.8430 - val_accuracy: 0.7972 - val_auc: 0.8180\n",
            "Epoch 47/100\n",
            "64/64 [==============================] - 5s 85ms/step - loss: 0.1988 - accuracy: 0.9155 - auc: 0.9601 - val_loss: 0.9146 - val_accuracy: 0.8194 - val_auc: 0.7885\n",
            "Epoch 48/100\n",
            "64/64 [==============================] - 5s 85ms/step - loss: 0.1984 - accuracy: 0.9241 - auc: 0.9619 - val_loss: 0.6444 - val_accuracy: 0.8139 - val_auc: 0.8103\n",
            "Epoch 49/100\n",
            "64/64 [==============================] - 5s 84ms/step - loss: 0.1793 - accuracy: 0.9338 - auc: 0.9682 - val_loss: 0.7061 - val_accuracy: 0.8056 - val_auc: 0.8123\n",
            "Epoch 50/100\n",
            "64/64 [==============================] - 6s 86ms/step - loss: 0.1860 - accuracy: 0.9216 - auc: 0.9643 - val_loss: 0.9167 - val_accuracy: 0.8167 - val_auc: 0.7830\n",
            "Epoch 51/100\n",
            "64/64 [==============================] - 5s 86ms/step - loss: 0.2160 - accuracy: 0.9202 - auc: 0.9568 - val_loss: 0.6357 - val_accuracy: 0.8000 - val_auc: 0.8199\n",
            "Epoch 52/100\n",
            "64/64 [==============================] - 5s 85ms/step - loss: 0.1867 - accuracy: 0.9290 - auc: 0.9632 - val_loss: 0.6569 - val_accuracy: 0.8194 - val_auc: 0.8125\n",
            "Restoring model weights from the end of the best epoch.\n",
            "Epoch 00052: early stopping\n",
            "Training on 2400 images with train-val split of 85-15 takes 284.49 seconds.\n"
          ],
          "name": "stdout"
        }
      ]
    },
    {
      "cell_type": "code",
      "metadata": {
        "id": "Qjo2xyYTbm2x"
      },
      "source": [
        "y_test = y_test.astype('int')"
      ],
      "execution_count": 20,
      "outputs": []
    },
    {
      "cell_type": "code",
      "metadata": {
        "colab": {
          "base_uri": "https://localhost:8080/"
        },
        "id": "wRk1_2g0YZma",
        "outputId": "99e00076-babf-4063-d312-c3261344e456"
      },
      "source": [
        "start_time = time.time()\n",
        "best_model.evaluate(x_test, y_test, batch_size=32, verbose=1)\n",
        "print('Prediction on 600 images takes %s seconds.'%round((time.time()-start_time),3))"
      ],
      "execution_count": 21,
      "outputs": [
        {
          "output_type": "stream",
          "text": [
            "19/19 [==============================] - 0s 10ms/step - loss: 0.8101 - accuracy: 0.8033 - auc: 0.8060\n",
            "Prediction on 600 images takes 0.352 seconds.\n"
          ],
          "name": "stdout"
        }
      ]
    },
    {
      "cell_type": "code",
      "metadata": {
        "id": "7nGOMWpddYot"
      },
      "source": [
        "tf.keras.models.save_model(best_model, '../output/nn_model', save_format='h5')\n",
        "best_model = tf.keras.models.load_model('../output/nn_model')"
      ],
      "execution_count": 22,
      "outputs": []
    },
    {
      "cell_type": "code",
      "metadata": {
        "id": "WqTkTZ4menNG",
        "colab": {
          "base_uri": "https://localhost:8080/"
        },
        "outputId": "eb90a77b-1ec8-4d97-a266-46f371594f29"
      },
      "source": [
        "best_model.summary()"
      ],
      "execution_count": 24,
      "outputs": [
        {
          "output_type": "stream",
          "text": [
            "Model: \"sequential\"\n",
            "_________________________________________________________________\n",
            "Layer (type)                 Output Shape              Param #   \n",
            "=================================================================\n",
            "batch_normalization (BatchNo (None, 6006)              24024     \n",
            "_________________________________________________________________\n",
            "dense (Dense)                (None, 1024)              6151168   \n",
            "_________________________________________________________________\n",
            "dropout (Dropout)            (None, 1024)              0         \n",
            "_________________________________________________________________\n",
            "dense_1 (Dense)              (None, 512)               524800    \n",
            "_________________________________________________________________\n",
            "dropout_1 (Dropout)          (None, 512)               0         \n",
            "_________________________________________________________________\n",
            "dense_2 (Dense)              (None, 256)               131328    \n",
            "_________________________________________________________________\n",
            "dropout_2 (Dropout)          (None, 256)               0         \n",
            "_________________________________________________________________\n",
            "dense_3 (Dense)              (None, 128)               32896     \n",
            "_________________________________________________________________\n",
            "dropout_3 (Dropout)          (None, 128)               0         \n",
            "_________________________________________________________________\n",
            "dense_4 (Dense)              (None, 64)                8256      \n",
            "_________________________________________________________________\n",
            "dropout_4 (Dropout)          (None, 64)                0         \n",
            "_________________________________________________________________\n",
            "dense_5 (Dense)              (None, 32)                2080      \n",
            "_________________________________________________________________\n",
            "dropout_5 (Dropout)          (None, 32)                0         \n",
            "_________________________________________________________________\n",
            "dense_6 (Dense)              (None, 16)                528       \n",
            "_________________________________________________________________\n",
            "dropout_6 (Dropout)          (None, 16)                0         \n",
            "_________________________________________________________________\n",
            "dense_7 (Dense)              (None, 8)                 136       \n",
            "_________________________________________________________________\n",
            "dropout_7 (Dropout)          (None, 8)                 0         \n",
            "_________________________________________________________________\n",
            "dense_8 (Dense)              (None, 1)                 9         \n",
            "=================================================================\n",
            "Total params: 6,875,225\n",
            "Trainable params: 6,863,213\n",
            "Non-trainable params: 12,012\n",
            "_________________________________________________________________\n"
          ],
          "name": "stdout"
        }
      ]
    }
  ]
}